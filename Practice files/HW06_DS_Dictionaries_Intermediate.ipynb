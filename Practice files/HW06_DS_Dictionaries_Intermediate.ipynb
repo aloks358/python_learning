{
  "nbformat": 4,
  "nbformat_minor": 0,
  "metadata": {
    "colab": {
      "name": "Copy of X - AI - C03 - Data Structure - Dictionaries.ipynb",
      "provenance": []
    },
    "kernelspec": {
      "name": "python374jvsc74a57bd08677be7ea0131bcafc7ea7559c4ac696408d005fe675e1b3d1c8f3cdc3985760",
      "display_name": "Python 3.7.4 64-bit (conda)"
    },
    "language_info": {
      "name": "python",
      "version": "3.7.4"
    }
  },
  "cells": [
    {
      "cell_type": "markdown",
      "metadata": {
        "id": "ZKr2dFHPfCqg"
      },
      "source": [
        "# Data Structures : Dictionaries"
      ]
    },
    {
      "cell_type": "markdown",
      "metadata": {
        "id": "0BUFpqo3fNwj"
      },
      "source": [
        "## Creating a Dictionary\n",
        "\n",
        "To create a Python dictionary, we need to pass a sequence of items inside curly braces {}, and separate them using a comma (,). Each item has a key and a value expressed as a \"key:value\" pair."
      ]
    },
    {
      "cell_type": "markdown",
      "metadata": {
        "id": "Q9cBRhQyfHud"
      },
      "source": [
        "![image.png](data:image/png;base64,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)"
      ]
    },
    {
      "cell_type": "markdown",
      "metadata": {
        "id": "WQr4kqXBgAjA"
      },
      "source": [
        "\n",
        "Dictionaries functions to be learned:\n",
        "1. Creating a Dictionary\n",
        "2. Accessing Elements\n",
        "3. Adding Elements\n",
        "4. Updating Elements\n",
        "5. Removing Elements\n",
        "6. Other Common Methods\n",
        "\n",
        "\n",
        "\n",
        "\n",
        "\n",
        "\n",
        "\n",
        "\n"
      ]
    },
    {
      "cell_type": "code",
      "metadata": {
        "id": "djHNKB_-gK4o"
      },
      "source": [
        "#Creating an empty dictionary:\n",
        "\n",
        "dict_sample = {}"
      ],
      "execution_count": 1,
      "outputs": []
    },
    {
      "cell_type": "code",
      "metadata": {
        "id": "YvOf8z_egJG4"
      },
      "source": [
        "#Creating a dictionary with integer keys:\n",
        "\n",
        "dict_sample = {1: 'mango', 2: 'pawpaw'}"
      ],
      "execution_count": 2,
      "outputs": []
    },
    {
      "cell_type": "code",
      "metadata": {
        "id": "gkoR3P9-gHVk"
      },
      "source": [
        "#Creating a dictionary with mixed keys:\n",
        "\n",
        "dict_sample = {'fruit': 'mango', 1: [4, 6, 8]}"
      ],
      "execution_count": 3,
      "outputs": []
    },
    {
      "cell_type": "code",
      "metadata": {
        "id": "MRGJiVedgEyY"
      },
      "source": [
        "#We can also create a dictionary by explicitly calling the Python's dict() method:\n",
        "\n",
        "dict_sample = dict({1:'mango', 2:'pawpaw'})"
      ],
      "execution_count": 4,
      "outputs": []
    },
    {
      "cell_type": "code",
      "metadata": {
        "id": "Iwakv07sgCoE"
      },
      "source": [
        "#A dictionary can also be created from a sequence as shown below:\n",
        "\n",
        "dict_sample = dict([(1,'mango'), (2,'pawpaw')])"
      ],
      "execution_count": 5,
      "outputs": []
    },
    {
      "cell_type": "code",
      "metadata": {
        "id": "JdI1tHqIf9Fc"
      },
      "source": [
        "dict_sample"
      ],
      "execution_count": 6,
      "outputs": [
        {
          "output_type": "execute_result",
          "data": {
            "text/plain": [
              "{1: 'mango', 2: 'pawpaw'}"
            ]
          },
          "metadata": {},
          "execution_count": 6
        }
      ]
    },
    {
      "cell_type": "code",
      "metadata": {
        "id": "dwGInM7kXBgO"
      },
      "source": [
        "  ## Can build up a dict by starting with the the empty dict {}\n",
        "  ## and storing key/value pairs into the dict like this:\n",
        "  ## dict[key] = value-for-that-key\n",
        "  dict = {}\n",
        "  dict['a'] = 'alpha'\n",
        "  dict['g'] = 'gamma'\n",
        "  dict['o'] = 'omega'\n",
        "\n",
        "  print (dict)  ## {'a': 'alpha', 'o': 'omega', 'g': 'gamma'}"
      ],
      "execution_count": 11,
      "outputs": [
        {
          "output_type": "stream",
          "name": "stdout",
          "text": [
            "{'a': 'alpha', 'g': 'gamma', 'o': 'omega'}\n"
          ]
        }
      ]
    },
    {
      "cell_type": "code",
      "metadata": {
        "id": "d2MIMSiXfJI2"
      },
      "source": [
        "  print (dict['a'])     ## Simple lookup, returns 'alpha'\n",
        "  dict['a'] = 6       ## Put new key/value into dict\n",
        "  'a' in dict         ## True\n",
        "  print (dict['z'])                  ## Throws KeyError"
      ],
      "execution_count": 12,
      "outputs": [
        {
          "output_type": "stream",
          "name": "stdout",
          "text": [
            "alpha\n"
          ]
        },
        {
          "output_type": "error",
          "ename": "KeyError",
          "evalue": "'z'",
          "traceback": [
            "\u001b[1;31m---------------------------------------------------------------------------\u001b[0m",
            "\u001b[1;31mKeyError\u001b[0m                                  Traceback (most recent call last)",
            "\u001b[1;32m<ipython-input-12-1aebfbc536b8>\u001b[0m in \u001b[0;36m<module>\u001b[1;34m\u001b[0m\n\u001b[0;32m      2\u001b[0m \u001b[0mdict\u001b[0m\u001b[1;33m[\u001b[0m\u001b[1;34m'a'\u001b[0m\u001b[1;33m]\u001b[0m \u001b[1;33m=\u001b[0m \u001b[1;36m6\u001b[0m       \u001b[1;31m## Put new key/value into dict\u001b[0m\u001b[1;33m\u001b[0m\u001b[1;33m\u001b[0m\u001b[0m\n\u001b[0;32m      3\u001b[0m \u001b[1;34m'a'\u001b[0m \u001b[1;32min\u001b[0m \u001b[0mdict\u001b[0m         \u001b[1;31m## True\u001b[0m\u001b[1;33m\u001b[0m\u001b[1;33m\u001b[0m\u001b[0m\n\u001b[1;32m----> 4\u001b[1;33m \u001b[0mprint\u001b[0m \u001b[1;33m(\u001b[0m\u001b[0mdict\u001b[0m\u001b[1;33m[\u001b[0m\u001b[1;34m'z'\u001b[0m\u001b[1;33m]\u001b[0m\u001b[1;33m)\u001b[0m                  \u001b[1;31m## Throws KeyError\u001b[0m\u001b[1;33m\u001b[0m\u001b[1;33m\u001b[0m\u001b[0m\n\u001b[0m",
            "\u001b[1;31mKeyError\u001b[0m: 'z'"
          ]
        }
      ]
    },
    {
      "cell_type": "code",
      "metadata": {
        "id": "nE0U2aGAgeH0"
      },
      "source": [
        "\n",
        "  if 'z' in dict: \n",
        "    print (dict['z'])     ## Avoid KeyError\n",
        "  print (dict.get('z'))  ## None (instead of KeyError)"
      ],
      "execution_count": 13,
      "outputs": [
        {
          "output_type": "stream",
          "name": "stdout",
          "text": [
            "None\n"
          ]
        }
      ]
    },
    {
      "cell_type": "markdown",
      "metadata": {
        "id": "ouogiV84gejj"
      },
      "source": [
        "## Accessing Elements\n",
        "\n",
        "To access dictionary items, pass the key inside square brackets []. For example:"
      ]
    },
    {
      "cell_type": "code",
      "metadata": {
        "id": "anIZPEiugg31"
      },
      "source": [
        "dict_sample = {\n",
        "  \"Company\": \"Toyota\",\n",
        "  \"model\": \"Premio\",\n",
        "  \"year\": 2012\n",
        "}\n",
        "x = dict_sample[\"model\"]\n",
        "print(x)"
      ],
      "execution_count": 14,
      "outputs": [
        {
          "output_type": "stream",
          "name": "stdout",
          "text": [
            "Premio\n"
          ]
        }
      ]
    },
    {
      "cell_type": "code",
      "metadata": {
        "id": "-Vv3oqRjgjST"
      },
      "source": [
        "#We created a dictionary named dict_sample. A variable named x was then created and its value is set to be the value for the key \"model\" in the dictionary."
      ],
      "execution_count": 15,
      "outputs": []
    },
    {
      "cell_type": "code",
      "metadata": {
        "id": "2xBsa1Mugmzy"
      },
      "source": [
        "dict = {'Name': 'Mercy', 'Age': 23, 'Course': 'Accounting'}\n",
        "print(\"Student Name:\", dict['Name'])\n",
        "print(\"Course:\", dict['Course'])\n",
        "print(\"Age:\", dict['Age'])"
      ],
      "execution_count": 16,
      "outputs": [
        {
          "output_type": "stream",
          "name": "stdout",
          "text": [
            "Student Name: Mercy\nCourse: Accounting\nAge: 23\n"
          ]
        }
      ]
    },
    {
      "cell_type": "markdown",
      "metadata": {
        "id": "sYuEBdyAgyVw"
      },
      "source": [
        "### The dictionary object also provides the get() function, which can be used to access dictionary elements as well. We append the function with the dictionary name using the dot operator and then pass the name of the key as the argument to the function. "
      ]
    },
    {
      "cell_type": "code",
      "metadata": {
        "id": "RzXQ4LWLgocK"
      },
      "source": [
        "dict_sample = {\n",
        "  \"Company\": \"Toyota\",\n",
        "  \"model\": \"Premio\",\n",
        "  \"year\": 2012\n",
        "}\n",
        "x = dict_sample.get(\"model\")\n",
        "print(x)"
      ],
      "execution_count": null,
      "outputs": []
    },
    {
      "cell_type": "code",
      "metadata": {
        "id": "BtV4gCoKgsgH"
      },
      "source": [],
      "execution_count": null,
      "outputs": []
    },
    {
      "cell_type": "markdown",
      "metadata": {
        "id": "JYeYrJiog6wb"
      },
      "source": [
        "### Adding Elements\n",
        "\n",
        "There are numerous ways to add new elements to a dictionary. We can use a new index key and assign a value to it. For example:"
      ]
    },
    {
      "cell_type": "code",
      "metadata": {
        "id": "bFptZtXkhALe"
      },
      "source": [
        "dict_sample = {\n",
        "  \"Company\": \"Toyota\",\n",
        "  \"model\": \"Premio\",\n",
        "  \"year\": 2012\n",
        "}\n",
        "dict_sample[\"Capacity\"] = \"1800CC\"\n",
        "print(dict_sample)\n",
        "\n",
        "#The new element has \"Capacity\" as the key and \"1800CC\" as its corresponding value. It has been added as the first element of the dictionary."
      ],
      "execution_count": null,
      "outputs": []
    },
    {
      "cell_type": "code",
      "metadata": {
        "id": "EGLTZnKthCJf"
      },
      "source": [
        "#Here is another example. First let's first create an empty dictionary:\n",
        "MyDictionary = {}\n",
        "print(\"An Empty Dictionary: \")\n",
        "print(MyDictionary)"
      ],
      "execution_count": null,
      "outputs": []
    },
    {
      "cell_type": "code",
      "metadata": {
        "id": "BoihFCK9hJdL"
      },
      "source": [
        "# The dictionary returns nothing as it has nothing stored yet. Let us add some elements to it, one at a time:\n",
        "MyDictionary[0] = 'Apples'\n",
        "MyDictionary[2] = 'Mangoes'\n",
        "MyDictionary[3] = 20\n",
        "print(\"\\n3 elements have been added: \")\n",
        "print(MyDictionary)"
      ],
      "execution_count": null,
      "outputs": []
    },
    {
      "cell_type": "code",
      "metadata": {
        "id": "ejHR270ohORj"
      },
      "source": [
        "#To add the elements, we specified keys as well as the corresponding values. For example\n",
        "MyDictionary[0] = 'Apples'"
      ],
      "execution_count": null,
      "outputs": []
    },
    {
      "cell_type": "code",
      "metadata": {
        "id": "XBpG32YXhVMp"
      },
      "source": [
        "MyDictionary['Values'] = 1, \"Pairs\", 4\n",
        "print(\"\\n3 elements have been added: \")\n",
        "print(MyDictionary)\n",
        "\n",
        "#In the above example, the name of the key is \"Values\" while everything after the = sign are the actual values for that key, stored as a Set."
      ],
      "execution_count": null,
      "outputs": []
    },
    {
      "cell_type": "markdown",
      "metadata": {
        "id": "PHeH7y5WhYpf"
      },
      "source": [
        "### Updating Elements\n",
        "\n",
        "After adding a value to a dictionary we can then modify the existing dictionary element. You use the key of the element to change the corresponding value. For example:"
      ]
    },
    {
      "cell_type": "code",
      "metadata": {
        "id": "LAil0wkMhbWJ"
      },
      "source": [
        "dict_sample = {\n",
        "  \"Company\": \"Toyota\",\n",
        "  \"model\": \"Premio\",\n",
        "  \"year\": 2012\n",
        "}\n",
        "\n",
        "dict_sample[\"year\"] = 2014\n",
        "\n",
        "print(dict_sample)"
      ],
      "execution_count": null,
      "outputs": []
    },
    {
      "cell_type": "code",
      "metadata": {
        "id": "N3bpo-Wxhd-H"
      },
      "source": [],
      "execution_count": null,
      "outputs": []
    },
    {
      "cell_type": "markdown",
      "metadata": {
        "id": "dMx-vs8WhgAl"
      },
      "source": [
        "### Removing Elements\n",
        "\n",
        "The removal of an element from a dictionary can be done in several ways, which we'll discuss one-by-one in this section:\n",
        "\n",
        "The del keyword can be used to remove the element with the specified key. For example:"
      ]
    },
    {
      "cell_type": "code",
      "metadata": {
        "id": "WHJgzwzbhhOz"
      },
      "source": [
        "dict_sample = {\n",
        "  \"Company\": \"Toyota\",\n",
        "  \"model\": \"Premio\",\n",
        "  \"year\": 2012\n",
        "}\n",
        "del dict_sample[\"year\"]\n",
        "print(dict_sample)\n",
        "\n"
      ],
      "execution_count": null,
      "outputs": []
    },
    {
      "cell_type": "code",
      "metadata": {
        "id": "rafygeczhnew"
      },
      "source": [
        "#We called the del keyword followed by the dictionary name. Inside the square brackets that follow the dictionary name, we passed the key of the element we need to delete from the dictionary, which in this example was \"year\". The entry for \"year\" in the dictionary was then deleted."
      ],
      "execution_count": null,
      "outputs": []
    },
    {
      "cell_type": "code",
      "metadata": {
        "id": "hEOLFwI9hp4L"
      },
      "source": [
        "#Another way to delete a key-value pair is to use the pop() function and pass the key of the entry to be deleted as the argument to the function. For example:\n",
        "dict_sample = {\n",
        "  \"Company\": \"Toyota\",\n",
        "  \"model\": \"Premio\",\n",
        "  \"year\": 2012\n",
        "}\n",
        "dict_sample.pop(\"year\")\n",
        "print(dict_sample)"
      ],
      "execution_count": null,
      "outputs": []
    },
    {
      "cell_type": "code",
      "metadata": {
        "id": "AiuGGl_IhqOJ"
      },
      "source": [
        "#The popitem() function removes the last item inserted into the dictionary, without needing to specify the key. Take a look at the following example:\n",
        "dict_sample = {\n",
        "  \"Company\": \"Toyota\",\n",
        "  \"model\": \"Premio\",\n",
        "  \"year\": 2012\n",
        "}\n",
        "dict_sample.popitem()\n",
        "print(dict_sample)"
      ],
      "execution_count": null,
      "outputs": []
    },
    {
      "cell_type": "code",
      "metadata": {
        "id": "2oGIxcYHhydf"
      },
      "source": [
        "#you can use the del keyword to delete the entire dictionary. For example:\n",
        "\n",
        "dict_sample = {\n",
        "  \"Company\": \"Toyota\",\n",
        "  \"model\": \"Premio\",\n",
        "  \"year\": 2012\n",
        "}\n",
        "del dict_sample\n",
        "print(dict_sample)\n",
        "#The code returns an error. The reason is that we are trying to access a dictionary which doesn't exist since it has been deleted."
      ],
      "execution_count": null,
      "outputs": []
    },
    {
      "cell_type": "code",
      "metadata": {
        "id": "tTxZ21Z0h59r"
      },
      "source": [
        "#This can be achieved by calling the clear() function on the dictionary:\n",
        "\n",
        "dict_sample = {\n",
        "  \"Company\": \"Toyota\",\n",
        "  \"model\": \"Premio\",\n",
        "  \"year\": 2012\n",
        "}\n",
        "dict_sample.clear()\n",
        "print(dict_sample)\n"
      ],
      "execution_count": null,
      "outputs": []
    },
    {
      "cell_type": "code",
      "metadata": {
        "id": "I7av5gjoiFKv"
      },
      "source": [],
      "execution_count": null,
      "outputs": []
    },
    {
      "cell_type": "code",
      "metadata": {
        "id": "ZhCad9mAiFEX"
      },
      "source": [],
      "execution_count": null,
      "outputs": []
    },
    {
      "cell_type": "code",
      "metadata": {
        "id": "zNiRK7KXiE7u"
      },
      "source": [],
      "execution_count": null,
      "outputs": []
    },
    {
      "cell_type": "markdown",
      "metadata": {
        "id": "vWrKnk91iFpI"
      },
      "source": [
        "## Other Common Methods"
      ]
    },
    {
      "cell_type": "code",
      "metadata": {
        "id": "AFEj6ILOiG-c"
      },
      "source": [
        "#The len() Method\n",
        "\n",
        "With this method, you can count the number of elements in a dictionary. For example:\n",
        "\n",
        "dict_sample = {\n",
        "  \"Company\": \"Toyota\",\n",
        "  \"model\": \"Premio\",\n",
        "  \"year\": 2012\n",
        "}\n",
        "print(len(dict_sample))\n"
      ],
      "execution_count": null,
      "outputs": []
    },
    {
      "cell_type": "code",
      "metadata": {
        "id": "MSyBB5jHiJlP"
      },
      "source": [
        "#The copy() Method\n",
        "\n",
        "This method returns a copy of the existing dictionary. For example:\n",
        "\n",
        "dict_sample = {\n",
        "  \"Company\": \"Toyota\",\n",
        "  \"model\": \"Premio\",\n",
        "  \"year\": 2012\n",
        "}\n",
        "x = dict_sample.copy()\n",
        "\n",
        "print(x)\n"
      ],
      "execution_count": null,
      "outputs": []
    },
    {
      "cell_type": "code",
      "metadata": {
        "id": "SHZG3Xx1iMAG"
      },
      "source": [
        "#The items() Method\n",
        "\n",
        "#When called, this method returns an iterable object. The iterable object has key-value pairs for the dictionary, as tuples in a list. This method is primarily used when you want to iterate through a dictionary.\n",
        "\n",
        "#The method is simply called on the dictionary object name as shown below:\n",
        "\n",
        "dict_sample = {\n",
        "  \"Company\": \"Toyota\",\n",
        "  \"model\": \"Premio\",\n",
        "  \"year\": 2012\n",
        "}\n",
        "\n",
        "for k, v in dict_sample.items():\n",
        "  print(k, v)\n"
      ],
      "execution_count": null,
      "outputs": []
    },
    {
      "cell_type": "code",
      "metadata": {
        "id": "p3MoukQmiP_U"
      },
      "source": [
        "#The object returned by items() can also be used to show the changes that have been implemented on the dictionary. This is demonstrated below:\n",
        "\n",
        "dict_sample = {\n",
        "  \"Company\": \"Toyota\",\n",
        "  \"model\": \"Premio\",\n",
        "  \"year\": 2012\n",
        "}\n",
        "\n",
        "x = dict_sample.items()\n",
        "\n",
        "print(x)\n",
        "\n",
        "dict_sample[\"model\"] = \"Mark X\"\n",
        "\n",
        "print(x)\n"
      ],
      "execution_count": null,
      "outputs": []
    },
    {
      "cell_type": "code",
      "metadata": {
        "id": "BmdHA-89iTkZ"
      },
      "source": [
        "#The fromkeys() Method\n",
        "\n",
        "#This method returns a dictionary having specified keys and values. It takes the syntax given below:\n",
        "\n",
        "dictionary.fromkeys(keys, value)\n"
      ],
      "execution_count": null,
      "outputs": []
    },
    {
      "cell_type": "code",
      "metadata": {
        "id": "pdtQkYa3iaNY"
      },
      "source": [
        "#The setdefault() Method\n",
        "\n",
        "#This method is applicable when we need to get the value of the element with the specified key. If the key is not found, it will be inserted into the dictionary alongside the specified value.\n",
        "\n",
        "#The method takes the following syntax:\n",
        "\n",
        "#dictionary.setdefault(keyname, value)\n",
        "\n",
        "dict_sample = {\n",
        "  \"Company\": \"Toyota\",\n",
        "  \"model\": \"Premio\",\n",
        "  \"year\": 2012\n",
        "}\n",
        "\n",
        "x = dict_sample.setdefault(\"color\", \"Gray\")\n",
        "\n",
        "print(x)"
      ],
      "execution_count": null,
      "outputs": []
    },
    {
      "cell_type": "code",
      "metadata": {
        "id": "d-L13o84ip3a"
      },
      "source": [
        "#The keys() Method\n",
        "\n",
        "#This method also returns an iterable object. The object returned is a list of all keys in the dictionary. And just like with the items() method, the returned object can be used to reflect the changes made to the dictionary.\n",
        "\n",
        "#To use this method, we only call it on the name of the dictionary, as shown below:\n",
        "\n",
        "#dictionary.keys()\n",
        "\n",
        "dict_sample = {\n",
        "  \"Company\": \"Toyota\",\n",
        "  \"model\": \"Premio\",\n",
        "  \"year\": 2012\n",
        "}\n",
        "\n",
        "x = dict_sample.keys()\n",
        "\n",
        "print(x)\n"
      ],
      "execution_count": null,
      "outputs": []
    },
    {
      "cell_type": "code",
      "metadata": {
        "id": "505cidxQiwIL"
      },
      "source": [
        "#Often times this method is used to iterate through each key in your dictionary, like so:\n",
        "\n",
        "dict_sample = {\n",
        "  \"Company\": \"Toyota\",\n",
        "  \"model\": \"Premio\",\n",
        "  \"year\": 2012\n",
        "}\n",
        "\n",
        "for k in dict_sample.keys():\n",
        "  print(k)\n"
      ],
      "execution_count": null,
      "outputs": []
    },
    {
      "cell_type": "markdown",
      "metadata": {
        "id": "6hsp8O27fV6G"
      },
      "source": [
        "### Dict Formatting"
      ]
    },
    {
      "cell_type": "code",
      "metadata": {
        "id": "JMtvZ0RTfdJh"
      },
      "source": [
        "#The % operator works conveniently to substitute values from a dict into a string by name:\n",
        "  hash = {}\n",
        "  hash['word'] = 'garfield'\n",
        "  hash['count'] = 42\n",
        "  s = 'I want %(count)d copies of %(word)s' % hash  # %d for int, %s for string\n",
        "  # 'I want 42 copies of garfield'"
      ],
      "execution_count": null,
      "outputs": []
    },
    {
      "cell_type": "markdown",
      "metadata": {
        "id": "iOQOulUEfi3E"
      },
      "source": [
        "### Del\n",
        "\n",
        "#### The \"del\" operator does deletions. In the simplest case, it can remove the definition of a variable, as if that variable had not been defined. Del can also be used on list elements or slices to delete that part of the list and to delete entries from a dictionary."
      ]
    },
    {
      "cell_type": "code",
      "metadata": {
        "id": "NIjmv6HrfkWF"
      },
      "source": [
        "list = ['a', 'b', 'c', 'd']\n",
        "  del list[0]     ## Delete first element\n",
        "  del list[-2:]   ## Delete last two elements\n",
        "  print list      ## ['b']\n",
        "\n",
        "  dict = {'a':1, 'b':2, 'c':3}\n",
        "  del dict['b']   ## Delete 'b' entry\n",
        "  print dict      ## {'a':1, 'c':3}\n"
      ],
      "execution_count": null,
      "outputs": []
    },
    {
      "cell_type": "markdown",
      "metadata": {
        "id": "OmstlGTlfqWA"
      },
      "source": [
        "For additional functions: [Python Documentation]https://docs.python.org/3/tutorial/datastructures.html)"
      ]
    },
    {
      "cell_type": "code",
      "metadata": {
        "id": "WgOgUe5Mjrwa"
      },
      "source": [],
      "execution_count": null,
      "outputs": []
    }
  ]
}