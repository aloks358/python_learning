{
  "nbformat": 4,
  "nbformat_minor": 0,
  "metadata": {
    "kernelspec": {
      "name": "python374jvsc74a57bd08677be7ea0131bcafc7ea7559c4ac696408d005fe675e1b3d1c8f3cdc3985760",
      "display_name": "Python 3.7.4 64-bit (conda)"
    },
    "language_info": {
      "codemirror_mode": {
        "name": "ipython",
        "version": 3
      },
      "file_extension": ".py",
      "mimetype": "text/x-python",
      "name": "python",
      "nbconvert_exporter": "python",
      "pygments_lexer": "ipython3",
      "version": "3.7.4"
    },
    "colab": {
      "name": "06_Intro_Py_Dictionaries.ipynb",
      "provenance": []
    }
  },
  "cells": [
    {
      "cell_type": "code",
      "metadata": {
        "id": "rMqBvPm9rXVX"
      },
      "source": [
        "# Make a dictionary with {} and : to signify a key and a value\n",
        "my_dict = {'key1':'value1','key2':'value2'}"
      ],
      "execution_count": 16,
      "outputs": []
    },
    {
      "cell_type": "code",
      "metadata": {
        "id": "e6DNvSSvrXVX"
      },
      "source": [
        "# Call values by their key\n",
        "my_dict['key2']"
      ],
      "execution_count": 17,
      "outputs": [
        {
          "output_type": "execute_result",
          "data": {
            "text/plain": [
              "'value2'"
            ]
          },
          "metadata": {},
          "execution_count": 17
        }
      ]
    },
    {
      "cell_type": "markdown",
      "metadata": {
        "id": "5AWappMArXVY"
      },
      "source": [
        "Its important to note that dictionaries are very flexible in the data types they can hold. For example:"
      ]
    },
    {
      "cell_type": "code",
      "metadata": {
        "id": "c_xvpOMvrXVY"
      },
      "source": [
        "my_dict = {'key1':123,'key2':[12,23,33],'key3':['item0','item1','item2']}"
      ],
      "execution_count": 18,
      "outputs": []
    },
    {
      "cell_type": "code",
      "metadata": {
        "id": "PSrmF4SdrXVY"
      },
      "source": [
        "# Let's call items from the dictionary\n",
        "my_dict['key3']"
      ],
      "execution_count": 19,
      "outputs": [
        {
          "output_type": "execute_result",
          "data": {
            "text/plain": [
              "['item0', 'item1', 'item2']"
            ]
          },
          "metadata": {},
          "execution_count": 19
        }
      ]
    },
    {
      "cell_type": "code",
      "metadata": {
        "id": "H9WWyQeErXVY"
      },
      "source": [
        "# Can call an index on that value\n",
        "my_dict['key3'][0]"
      ],
      "execution_count": 20,
      "outputs": [
        {
          "output_type": "execute_result",
          "data": {
            "text/plain": [
              "'item0'"
            ]
          },
          "metadata": {},
          "execution_count": 20
        }
      ]
    },
    {
      "cell_type": "code",
      "metadata": {
        "id": "x5H61_uWrXVY"
      },
      "source": [
        "# Can then even call methods on that value\n",
        "my_dict['key3'][0].upper()"
      ],
      "execution_count": 21,
      "outputs": [
        {
          "output_type": "execute_result",
          "data": {
            "text/plain": [
              "'ITEM0'"
            ]
          },
          "metadata": {},
          "execution_count": 21
        }
      ]
    },
    {
      "cell_type": "code",
      "metadata": {
        "id": "2LYxYYYiOg5F"
      },
      "source": [
        "# Python program to demonstrate \n",
        "# accessing a element from a Dictionary \n",
        "\n",
        "# Creating a Dictionary \n",
        "Dict = {1: 'Tony', 'name': 'For', 3: 'Stark'} \n",
        "\n",
        "# accessing a element using key \n",
        "print(\"Accessing an element using key:\") \n",
        "print(Dict['name']) \n",
        "\n",
        "# accessing a element using key \n",
        "print(\"Accessing an element using key:\") \n",
        "print(Dict[1]) \n"
      ],
      "execution_count": 22,
      "outputs": [
        {
          "output_type": "stream",
          "name": "stdout",
          "text": [
            "Accessing an element using key:\nFor\nAccessing an element using key:\nTony\n"
          ]
        }
      ]
    },
    {
      "cell_type": "code",
      "metadata": {
        "id": "6WACtZx7Oh98"
      },
      "source": [
        "# Creating a Dictionary \n",
        "Dict = {1: 'Tony', 'name': 'For', 3: 'Stark'} \n",
        "\n",
        "# accessing a element using get() \n",
        "# method \n",
        "print(\"Accessing an element using get:\") \n",
        "print(Dict.get(3)) \n"
      ],
      "execution_count": 23,
      "outputs": [
        {
          "output_type": "stream",
          "name": "stdout",
          "text": [
            "Accessing an element using get:\nStark\n"
          ]
        }
      ]
    },
    {
      "cell_type": "markdown",
      "metadata": {
        "id": "E46HckPWOs8w"
      },
      "source": [
        "Deleting Values from Dictionary"
      ]
    },
    {
      "cell_type": "code",
      "metadata": {
        "id": "7_FqHL7UOkli"
      },
      "source": [
        "# Initial Dictionary \n",
        "Dict = { 5 : 'Welcome', 6 : 'you', 7 : 'Newbie', \n",
        "\t\t'A' : {1 : 'Captain', 2 : 'America', 3 : 'Stark'}, \n",
        "\t\t'B' : {1 : 'Stark', 2 : 'Vision'}} \n",
        "print(\"Initial Dictionary: \") \n",
        "print(Dict) \n",
        "\n",
        "# Deleting a Key value \n",
        "del Dict[6] \n",
        "print(\"\\nDeleting a specific key: \") \n",
        "print(Dict) \n",
        "\n",
        "# Deleting a Key from \n",
        "# Nested Dictionary \n",
        "del Dict['A'][2] \n",
        "print(\"\\nDeleting a key from Nested Dictionary: \") \n",
        "print(Dict) \n"
      ],
      "execution_count": 24,
      "outputs": [
        {
          "output_type": "stream",
          "name": "stdout",
          "text": [
            "Initial Dictionary: \n{5: 'Welcome', 6: 'you', 7: 'Newbie', 'A': {1: 'Captain', 2: 'America', 3: 'Stark'}, 'B': {1: 'Stark', 2: 'Vision'}}\n\nDeleting a specific key: \n{5: 'Welcome', 7: 'Newbie', 'A': {1: 'Captain', 2: 'America', 3: 'Stark'}, 'B': {1: 'Stark', 2: 'Vision'}}\n\nDeleting a key from Nested Dictionary: \n{5: 'Welcome', 7: 'Newbie', 'A': {1: 'Captain', 3: 'Stark'}, 'B': {1: 'Stark', 2: 'Vision'}}\n"
          ]
        }
      ]
    },
    {
      "cell_type": "code",
      "metadata": {
        "id": "gTC1CHakOwPu"
      },
      "source": [
        "# Creating a Dictionary \n",
        "Dict = {1: 'Stark', 'name': 'of', 3: 'Avengers'} \n",
        "\n",
        "# Deleting a key \n",
        "# using pop() method \n",
        "pop_ele = Dict.pop(1) \n",
        "print('\\nDictionary after deletion: ' + str(Dict)) \n",
        "print('Value associated to poped key is: ' + str(pop_ele)) \n"
      ],
      "execution_count": 25,
      "outputs": [
        {
          "output_type": "stream",
          "name": "stdout",
          "text": [
            "\nDictionary after deletion: {'name': 'of', 3: 'Avengers'}\nValue associated to poped key is: Stark\n"
          ]
        }
      ]
    },
    {
      "cell_type": "markdown",
      "metadata": {
        "id": "Eqt6fCn3rXVY"
      },
      "source": [
        "We can affect the values of a key as well. For instance:"
      ]
    },
    {
      "cell_type": "code",
      "metadata": {
        "id": "U60u1iferXVY"
      },
      "source": [
        "my_dict['key1']"
      ],
      "execution_count": 26,
      "outputs": [
        {
          "output_type": "execute_result",
          "data": {
            "text/plain": [
              "123"
            ]
          },
          "metadata": {},
          "execution_count": 26
        }
      ]
    },
    {
      "cell_type": "code",
      "metadata": {
        "id": "rIKq1UvHrXVY"
      },
      "source": [
        "# Subtract 123 from the value\n",
        "my_dict['key1'] = my_dict['key1'] - 123"
      ],
      "execution_count": 27,
      "outputs": []
    },
    {
      "cell_type": "code",
      "metadata": {
        "id": "jKYGYYImrXVY"
      },
      "source": [
        "#Check\n",
        "my_dict['key1']"
      ],
      "execution_count": 28,
      "outputs": [
        {
          "output_type": "execute_result",
          "data": {
            "text/plain": [
              "0"
            ]
          },
          "metadata": {},
          "execution_count": 28
        }
      ]
    },
    {
      "cell_type": "code",
      "metadata": {
        "id": "kMgY9sKsNoiT"
      },
      "source": [
        "thisdict = {\n",
        "  \"brand\": \"Ford\",\n",
        "  \"electric\": False,\n",
        "  \"year\": 1964,\n",
        "  \"colors\": [\"red\", \"white\", \"blue\"]\n",
        "}"
      ],
      "execution_count": 29,
      "outputs": []
    },
    {
      "cell_type": "code",
      "metadata": {
        "id": "d6byNv51Np6e"
      },
      "source": [],
      "execution_count": null,
      "outputs": []
    },
    {
      "cell_type": "markdown",
      "metadata": {
        "id": "MUT8ePWYrXVZ"
      },
      "source": [
        "A quick note, Python has a built-in method of doing a self subtraction or addition (or multiplication or division). We could have also used += or -= for the above statement. For example:"
      ]
    },
    {
      "cell_type": "code",
      "metadata": {
        "id": "PKuAOytGrXVZ"
      },
      "source": [
        "# Set the object equal to itself minus 123 \n",
        "my_dict['key1'] -= 123\n",
        "my_dict['key1']"
      ],
      "execution_count": 30,
      "outputs": [
        {
          "output_type": "execute_result",
          "data": {
            "text/plain": [
              "-123"
            ]
          },
          "metadata": {},
          "execution_count": 30
        }
      ]
    },
    {
      "cell_type": "markdown",
      "metadata": {
        "id": "F1kkdx91rXVZ"
      },
      "source": [
        "We can also create keys by assignment. For instance if we started off with an empty dictionary, we could continually add to it:"
      ]
    },
    {
      "cell_type": "code",
      "metadata": {
        "id": "g4kldAQwrXVZ"
      },
      "source": [
        "# Create a new dictionary\n",
        "d = {}"
      ],
      "execution_count": 31,
      "outputs": []
    },
    {
      "cell_type": "code",
      "metadata": {
        "id": "Lxkkx-JtrXVZ"
      },
      "source": [
        "# Create a new key through assignment\n",
        "d['animal'] = 'Dog'"
      ],
      "execution_count": 32,
      "outputs": []
    },
    {
      "cell_type": "code",
      "metadata": {
        "id": "eIYZeGmHrXVZ"
      },
      "source": [
        "# Can do this with any object\n",
        "d['answer'] = 42"
      ],
      "execution_count": 33,
      "outputs": []
    },
    {
      "cell_type": "code",
      "metadata": {
        "id": "DTjOWnXOrXVZ"
      },
      "source": [
        "#Show\n",
        "d"
      ],
      "execution_count": 34,
      "outputs": [
        {
          "output_type": "execute_result",
          "data": {
            "text/plain": [
              "{'animal': 'Dog', 'answer': 42}"
            ]
          },
          "metadata": {},
          "execution_count": 34
        }
      ]
    },
    {
      "cell_type": "markdown",
      "metadata": {
        "id": "E5tgnbaLrXVZ"
      },
      "source": [
        "## Nesting with Dictionaries\n",
        "\n",
        "Hopefully you're starting to see how powerful Python is with its flexibility of nesting objects and calling methods on them. Let's see a dictionary nested inside a dictionary:"
      ]
    },
    {
      "cell_type": "code",
      "metadata": {
        "id": "5DOp8XtVODLm"
      },
      "source": [
        "# Creating a Nested Dictionary \n",
        "# as shown in the below image \n",
        "Dict = {1: 'Tony', 2: 'For', \n",
        "\t\t3:{'A' : 'Welcome', 'B' : 'To', 'C' : 'Stark'}} \n",
        "\n",
        "print(Dict) "
      ],
      "execution_count": 35,
      "outputs": [
        {
          "output_type": "stream",
          "name": "stdout",
          "text": [
            "{1: 'Tony', 2: 'For', 3: {'A': 'Welcome', 'B': 'To', 'C': 'Stark'}}\n"
          ]
        }
      ]
    },
    {
      "cell_type": "markdown",
      "metadata": {
        "id": "9wVa6Ou_OMFl"
      },
      "source": [
        "![image.png](data:image/png;base64,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)"
      ]
    },
    {
      "cell_type": "code",
      "metadata": {
        "id": "SK-rm5r9rXVZ"
      },
      "source": [
        "# Dictionary nested inside a dictionary nested inside a dictionary\n",
        "d = {'key1':{'nestkey':{'subnestkey':'value'}}}"
      ],
      "execution_count": 36,
      "outputs": []
    },
    {
      "cell_type": "markdown",
      "metadata": {
        "id": "HwKAoluCrXVZ"
      },
      "source": [
        "Wow! That's a quite the inception of dictionaries! Let's see how we can grab that value:"
      ]
    },
    {
      "cell_type": "code",
      "metadata": {
        "id": "eGmD48yZrXVZ"
      },
      "source": [
        "# Keep calling the keys\n",
        "d['key1']['nestkey']['subnestkey']"
      ],
      "execution_count": 37,
      "outputs": [
        {
          "output_type": "execute_result",
          "data": {
            "text/plain": [
              "'value'"
            ]
          },
          "metadata": {},
          "execution_count": 37
        }
      ]
    },
    {
      "cell_type": "code",
      "metadata": {
        "id": "vdrgoFNlOXd5"
      },
      "source": [
        "# Creating an empty Dictionary \n",
        "Dict = {} \n",
        "print(\"Empty Dictionary: \") \n",
        "print(Dict) \n",
        "\n",
        "# Adding elements one at a time \n",
        "Dict[0] = 'Tony'\n",
        "Dict[2] = 'For'\n",
        "Dict[3] = 1\n",
        "print(\"\\nDictionary after adding 3 elements: \") \n",
        "print(Dict) \n",
        "\n",
        "# Adding set of values \n",
        "# to a single Key \n",
        "Dict['Value_set'] = 2, 3, 4\n",
        "print(\"\\nDictionary after adding 3 elements: \") \n",
        "print(Dict) \n",
        "\n",
        "# Updating existing Key's Value \n",
        "Dict[2] = 'Welcome'\n",
        "print(\"\\nUpdated key value: \") \n",
        "print(Dict) \n",
        "\n",
        "# Adding Nested Key value to Dictionary \n",
        "Dict[5] = {'Nested' :{'1' : 'Life', '2' : 'Stark'}} \n",
        "print(\"\\nAdding a Nested Key: \") \n",
        "print(Dict) "
      ],
      "execution_count": 38,
      "outputs": [
        {
          "output_type": "stream",
          "name": "stdout",
          "text": [
            "Empty Dictionary: \n{}\n\nDictionary after adding 3 elements: \n{0: 'Tony', 2: 'For', 3: 1}\n\nDictionary after adding 3 elements: \n{0: 'Tony', 2: 'For', 3: 1, 'Value_set': (2, 3, 4)}\n\nUpdated key value: \n{0: 'Tony', 2: 'Welcome', 3: 1, 'Value_set': (2, 3, 4)}\n\nAdding a Nested Key: \n{0: 'Tony', 2: 'Welcome', 3: 1, 'Value_set': (2, 3, 4), 5: {'Nested': {'1': 'Life', '2': 'Stark'}}}\n"
          ]
        }
      ]
    },
    {
      "cell_type": "markdown",
      "metadata": {
        "id": "06zfjmwyrXVZ"
      },
      "source": [
        "## A few Dictionary Methods\n",
        "\n",
        "There are a few methods we can call on a dictionary. Let's get a quick introduction to a few of them:"
      ]
    },
    {
      "cell_type": "code",
      "metadata": {
        "id": "7MeJSo5grXVZ"
      },
      "source": [
        "# Create a typical dictionary\n",
        "d = {'key1':1,'key2':2,'key3':3}"
      ],
      "execution_count": 39,
      "outputs": []
    },
    {
      "cell_type": "code",
      "metadata": {
        "id": "irdOw0BWrXVZ"
      },
      "source": [
        "# Method to return a list of all keys \n",
        "d.keys()"
      ],
      "execution_count": 40,
      "outputs": [
        {
          "output_type": "execute_result",
          "data": {
            "text/plain": [
              "dict_keys(['key1', 'key2', 'key3'])"
            ]
          },
          "metadata": {},
          "execution_count": 40
        }
      ]
    },
    {
      "cell_type": "code",
      "metadata": {
        "id": "yiPjkdWxrXVZ"
      },
      "source": [
        "# Method to grab all values\n",
        "d.values()"
      ],
      "execution_count": 41,
      "outputs": [
        {
          "output_type": "execute_result",
          "data": {
            "text/plain": [
              "dict_values([1, 2, 3])"
            ]
          },
          "metadata": {},
          "execution_count": 41
        }
      ]
    },
    {
      "cell_type": "code",
      "metadata": {
        "id": "0rjh0BxdrXVZ"
      },
      "source": [
        "# Method to return tuples of all items  (we'll learn about tuples soon)\n",
        "d.items()"
      ],
      "execution_count": 42,
      "outputs": [
        {
          "output_type": "execute_result",
          "data": {
            "text/plain": [
              "dict_items([('key1', 1), ('key2', 2), ('key3', 3)])"
            ]
          },
          "metadata": {},
          "execution_count": 42
        }
      ]
    }
  ]
}